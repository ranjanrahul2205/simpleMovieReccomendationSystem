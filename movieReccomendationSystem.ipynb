{
  "nbformat": 4,
  "nbformat_minor": 0,
  "metadata": {
    "colab": {
      "name": "movieReccomendationSystem.ipynb",
      "provenance": []
    },
    "kernelspec": {
      "name": "python3",
      "display_name": "Python 3"
    }
  },
  "cells": [
    {
      "cell_type": "code",
      "metadata": {
        "id": "98NBAE4Iuj-8"
      },
      "source": [
        "import numpy as np\r\n",
        "import pandas as pd"
      ],
      "execution_count": 230,
      "outputs": []
    },
    {
      "cell_type": "code",
      "metadata": {
        "id": "bWAsrDzvu7Jt"
      },
      "source": [
        "df = pd.read_csv('/content/IMDB-Movie-Data.csv')"
      ],
      "execution_count": 231,
      "outputs": []
    },
    {
      "cell_type": "code",
      "metadata": {
        "colab": {
          "base_uri": "https://localhost:8080/",
          "height": 531
        },
        "id": "QgAgqqFAvAQV",
        "outputId": "b95daf83-3d11-469a-8a50-fb7414b887c9"
      },
      "source": [
        "df.head()"
      ],
      "execution_count": 232,
      "outputs": [
        {
          "output_type": "execute_result",
          "data": {
            "text/html": [
              "<div>\n",
              "<style scoped>\n",
              "    .dataframe tbody tr th:only-of-type {\n",
              "        vertical-align: middle;\n",
              "    }\n",
              "\n",
              "    .dataframe tbody tr th {\n",
              "        vertical-align: top;\n",
              "    }\n",
              "\n",
              "    .dataframe thead th {\n",
              "        text-align: right;\n",
              "    }\n",
              "</style>\n",
              "<table border=\"1\" class=\"dataframe\">\n",
              "  <thead>\n",
              "    <tr style=\"text-align: right;\">\n",
              "      <th></th>\n",
              "      <th>Rank</th>\n",
              "      <th>Title</th>\n",
              "      <th>Genre</th>\n",
              "      <th>Description</th>\n",
              "      <th>Director</th>\n",
              "      <th>Actors</th>\n",
              "      <th>Year</th>\n",
              "      <th>Runtime (Minutes)</th>\n",
              "      <th>Rating</th>\n",
              "      <th>Votes</th>\n",
              "      <th>Revenue (Millions)</th>\n",
              "      <th>Metascore</th>\n",
              "    </tr>\n",
              "  </thead>\n",
              "  <tbody>\n",
              "    <tr>\n",
              "      <th>0</th>\n",
              "      <td>1</td>\n",
              "      <td>Guardians of the Galaxy</td>\n",
              "      <td>Action,Adventure,Sci-Fi</td>\n",
              "      <td>A group of intergalactic criminals are forced ...</td>\n",
              "      <td>James Gunn</td>\n",
              "      <td>Chris Pratt, Vin Diesel, Bradley Cooper, Zoe S...</td>\n",
              "      <td>2014</td>\n",
              "      <td>121</td>\n",
              "      <td>8.1</td>\n",
              "      <td>757074</td>\n",
              "      <td>333.13</td>\n",
              "      <td>76.0</td>\n",
              "    </tr>\n",
              "    <tr>\n",
              "      <th>1</th>\n",
              "      <td>2</td>\n",
              "      <td>Prometheus</td>\n",
              "      <td>Adventure,Mystery,Sci-Fi</td>\n",
              "      <td>Following clues to the origin of mankind, a te...</td>\n",
              "      <td>Ridley Scott</td>\n",
              "      <td>Noomi Rapace, Logan Marshall-Green, Michael Fa...</td>\n",
              "      <td>2012</td>\n",
              "      <td>124</td>\n",
              "      <td>7.0</td>\n",
              "      <td>485820</td>\n",
              "      <td>126.46</td>\n",
              "      <td>65.0</td>\n",
              "    </tr>\n",
              "    <tr>\n",
              "      <th>2</th>\n",
              "      <td>3</td>\n",
              "      <td>Split</td>\n",
              "      <td>Horror,Thriller</td>\n",
              "      <td>Three girls are kidnapped by a man with a diag...</td>\n",
              "      <td>M. Night Shyamalan</td>\n",
              "      <td>James McAvoy, Anya Taylor-Joy, Haley Lu Richar...</td>\n",
              "      <td>2016</td>\n",
              "      <td>117</td>\n",
              "      <td>7.3</td>\n",
              "      <td>157606</td>\n",
              "      <td>138.12</td>\n",
              "      <td>62.0</td>\n",
              "    </tr>\n",
              "    <tr>\n",
              "      <th>3</th>\n",
              "      <td>4</td>\n",
              "      <td>Sing</td>\n",
              "      <td>Animation,Comedy,Family</td>\n",
              "      <td>In a city of humanoid animals, a hustling thea...</td>\n",
              "      <td>Christophe Lourdelet</td>\n",
              "      <td>Matthew McConaughey,Reese Witherspoon, Seth Ma...</td>\n",
              "      <td>2016</td>\n",
              "      <td>108</td>\n",
              "      <td>7.2</td>\n",
              "      <td>60545</td>\n",
              "      <td>270.32</td>\n",
              "      <td>59.0</td>\n",
              "    </tr>\n",
              "    <tr>\n",
              "      <th>4</th>\n",
              "      <td>5</td>\n",
              "      <td>Suicide Squad</td>\n",
              "      <td>Action,Adventure,Fantasy</td>\n",
              "      <td>A secret government agency recruits some of th...</td>\n",
              "      <td>David Ayer</td>\n",
              "      <td>Will Smith, Jared Leto, Margot Robbie, Viola D...</td>\n",
              "      <td>2016</td>\n",
              "      <td>123</td>\n",
              "      <td>6.2</td>\n",
              "      <td>393727</td>\n",
              "      <td>325.02</td>\n",
              "      <td>40.0</td>\n",
              "    </tr>\n",
              "  </tbody>\n",
              "</table>\n",
              "</div>"
            ],
            "text/plain": [
              "   Rank                    Title  ... Revenue (Millions) Metascore\n",
              "0     1  Guardians of the Galaxy  ...             333.13      76.0\n",
              "1     2               Prometheus  ...             126.46      65.0\n",
              "2     3                    Split  ...             138.12      62.0\n",
              "3     4                     Sing  ...             270.32      59.0\n",
              "4     5            Suicide Squad  ...             325.02      40.0\n",
              "\n",
              "[5 rows x 12 columns]"
            ]
          },
          "metadata": {
            "tags": []
          },
          "execution_count": 232
        }
      ]
    },
    {
      "cell_type": "code",
      "metadata": {
        "colab": {
          "base_uri": "https://localhost:8080/"
        },
        "id": "D7GFa7RwvF1V",
        "outputId": "1f3d1d01-3168-4513-d748-8bf654a481f8"
      },
      "source": [
        "df.columns"
      ],
      "execution_count": 233,
      "outputs": [
        {
          "output_type": "execute_result",
          "data": {
            "text/plain": [
              "Index(['Rank', 'Title', 'Genre', 'Description', 'Director', 'Actors', 'Year',\n",
              "       'Runtime (Minutes)', 'Rating', 'Votes', 'Revenue (Millions)',\n",
              "       'Metascore'],\n",
              "      dtype='object')"
            ]
          },
          "metadata": {
            "tags": []
          },
          "execution_count": 233
        }
      ]
    },
    {
      "cell_type": "code",
      "metadata": {
        "colab": {
          "base_uri": "https://localhost:8080/"
        },
        "id": "By9NkKcuvOr0",
        "outputId": "40de58d1-1920-4658-f1b7-11b8fd7c25a3"
      },
      "source": [
        "df.isnull().sum()"
      ],
      "execution_count": 234,
      "outputs": [
        {
          "output_type": "execute_result",
          "data": {
            "text/plain": [
              "Rank                    0\n",
              "Title                   0\n",
              "Genre                   0\n",
              "Description             0\n",
              "Director                0\n",
              "Actors                  0\n",
              "Year                    0\n",
              "Runtime (Minutes)       0\n",
              "Rating                  0\n",
              "Votes                   0\n",
              "Revenue (Millions)    128\n",
              "Metascore              64\n",
              "dtype: int64"
            ]
          },
          "metadata": {
            "tags": []
          },
          "execution_count": 234
        }
      ]
    },
    {
      "cell_type": "markdown",
      "metadata": {
        "id": "Zim04aGaym1q"
      },
      "source": [
        "Simply dropping column instaed of replacing null values because thise columns are not important anyways."
      ]
    },
    {
      "cell_type": "code",
      "metadata": {
        "id": "ZJ10rBJKvaTi"
      },
      "source": [
        "df = df.drop(['Revenue (Millions)', 'Metascore'], axis = 1)"
      ],
      "execution_count": 235,
      "outputs": []
    },
    {
      "cell_type": "markdown",
      "metadata": {
        "id": "9OGVpZBlyzKZ"
      },
      "source": [
        "Columns after dropping."
      ]
    },
    {
      "cell_type": "code",
      "metadata": {
        "colab": {
          "base_uri": "https://localhost:8080/"
        },
        "id": "sjBWml6nvjS5",
        "outputId": "80d0968a-2bc9-42e3-a346-1ea82baf5d3d"
      },
      "source": [
        "df.columns"
      ],
      "execution_count": 236,
      "outputs": [
        {
          "output_type": "execute_result",
          "data": {
            "text/plain": [
              "Index(['Rank', 'Title', 'Genre', 'Description', 'Director', 'Actors', 'Year',\n",
              "       'Runtime (Minutes)', 'Rating', 'Votes'],\n",
              "      dtype='object')"
            ]
          },
          "metadata": {
            "tags": []
          },
          "execution_count": 236
        }
      ]
    },
    {
      "cell_type": "markdown",
      "metadata": {
        "id": "vC9Ahi4Ny4Rz"
      },
      "source": [
        "There are total of 1000 movies."
      ]
    },
    {
      "cell_type": "code",
      "metadata": {
        "colab": {
          "base_uri": "https://localhost:8080/"
        },
        "id": "PZeYnpuJvszZ",
        "outputId": "803cf36c-3429-4803-ed11-b9a329a59d03"
      },
      "source": [
        "df.shape"
      ],
      "execution_count": 237,
      "outputs": [
        {
          "output_type": "execute_result",
          "data": {
            "text/plain": [
              "(1000, 10)"
            ]
          },
          "metadata": {
            "tags": []
          },
          "execution_count": 237
        }
      ]
    },
    {
      "cell_type": "markdown",
      "metadata": {
        "id": "Z_M1wSIly8sW"
      },
      "source": [
        "Taking all the columns that are important.We will be using data of these columns to create our recommendations."
      ]
    },
    {
      "cell_type": "code",
      "metadata": {
        "id": "EcONYr9rv64N"
      },
      "source": [
        "imp_columns = ['Title', 'Genre', 'Description', 'Director', 'Actors']"
      ],
      "execution_count": 238,
      "outputs": []
    },
    {
      "cell_type": "code",
      "metadata": {
        "colab": {
          "base_uri": "https://localhost:8080/",
          "height": 187
        },
        "id": "gq89vLbkwayb",
        "outputId": "9b148e27-f7cd-460a-c526-e3b5376889ce"
      },
      "source": [
        "df[imp_columns].head(3)"
      ],
      "execution_count": 239,
      "outputs": [
        {
          "output_type": "execute_result",
          "data": {
            "text/html": [
              "<div>\n",
              "<style scoped>\n",
              "    .dataframe tbody tr th:only-of-type {\n",
              "        vertical-align: middle;\n",
              "    }\n",
              "\n",
              "    .dataframe tbody tr th {\n",
              "        vertical-align: top;\n",
              "    }\n",
              "\n",
              "    .dataframe thead th {\n",
              "        text-align: right;\n",
              "    }\n",
              "</style>\n",
              "<table border=\"1\" class=\"dataframe\">\n",
              "  <thead>\n",
              "    <tr style=\"text-align: right;\">\n",
              "      <th></th>\n",
              "      <th>Title</th>\n",
              "      <th>Genre</th>\n",
              "      <th>Description</th>\n",
              "      <th>Director</th>\n",
              "      <th>Actors</th>\n",
              "    </tr>\n",
              "  </thead>\n",
              "  <tbody>\n",
              "    <tr>\n",
              "      <th>0</th>\n",
              "      <td>Guardians of the Galaxy</td>\n",
              "      <td>Action,Adventure,Sci-Fi</td>\n",
              "      <td>A group of intergalactic criminals are forced ...</td>\n",
              "      <td>James Gunn</td>\n",
              "      <td>Chris Pratt, Vin Diesel, Bradley Cooper, Zoe S...</td>\n",
              "    </tr>\n",
              "    <tr>\n",
              "      <th>1</th>\n",
              "      <td>Prometheus</td>\n",
              "      <td>Adventure,Mystery,Sci-Fi</td>\n",
              "      <td>Following clues to the origin of mankind, a te...</td>\n",
              "      <td>Ridley Scott</td>\n",
              "      <td>Noomi Rapace, Logan Marshall-Green, Michael Fa...</td>\n",
              "    </tr>\n",
              "    <tr>\n",
              "      <th>2</th>\n",
              "      <td>Split</td>\n",
              "      <td>Horror,Thriller</td>\n",
              "      <td>Three girls are kidnapped by a man with a diag...</td>\n",
              "      <td>M. Night Shyamalan</td>\n",
              "      <td>James McAvoy, Anya Taylor-Joy, Haley Lu Richar...</td>\n",
              "    </tr>\n",
              "  </tbody>\n",
              "</table>\n",
              "</div>"
            ],
            "text/plain": [
              "                     Title  ...                                             Actors\n",
              "0  Guardians of the Galaxy  ...  Chris Pratt, Vin Diesel, Bradley Cooper, Zoe S...\n",
              "1               Prometheus  ...  Noomi Rapace, Logan Marshall-Green, Michael Fa...\n",
              "2                    Split  ...  James McAvoy, Anya Taylor-Joy, Haley Lu Richar...\n",
              "\n",
              "[3 rows x 5 columns]"
            ]
          },
          "metadata": {
            "tags": []
          },
          "execution_count": 239
        }
      ]
    },
    {
      "cell_type": "markdown",
      "metadata": {
        "id": "qNtmXnmzzJdr"
      },
      "source": [
        "This combines the text from all these important columns into a string then we craete a list of those "
      ]
    },
    {
      "cell_type": "code",
      "metadata": {
        "id": "Xitgtp2swtWV"
      },
      "source": [
        "def combine_features(data, imp_columns):\r\n",
        "  combined_features = []\r\n",
        "  for i in range(0, data.shape[0]):\r\n",
        "    result = ''\r\n",
        "    for feature in imp_columns:\r\n",
        "      result = result + ' ' + str(data[feature][i])  # if result = 'split'  ..... result = 'split' + ' ' + str(data[Genre][2]) where 2 is row number\r\n",
        "    combined_features.append(result) # appending entire row containing 'Title', 'Genre', 'Description', 'Director', 'Actors' in a list element\r\n",
        "  return combined_features           # every list element represents a movie"
      ],
      "execution_count": 240,
      "outputs": []
    },
    {
      "cell_type": "markdown",
      "metadata": {
        "id": "TeYaIQCL0Sek"
      },
      "source": [
        "Putting it in a new column."
      ]
    },
    {
      "cell_type": "code",
      "metadata": {
        "id": "Zbi3kAaKzCiy"
      },
      "source": [
        "df['combined_features'] = combine_features(df, imp_columns)"
      ],
      "execution_count": 241,
      "outputs": []
    },
    {
      "cell_type": "code",
      "metadata": {
        "colab": {
          "base_uri": "https://localhost:8080/",
          "height": 127
        },
        "id": "OVTyXqvRz6Tp",
        "outputId": "39553b14-e112-4b72-b7a3-fdb3f4d2d92e"
      },
      "source": [
        "df.tail(1)"
      ],
      "execution_count": 242,
      "outputs": [
        {
          "output_type": "execute_result",
          "data": {
            "text/html": [
              "<div>\n",
              "<style scoped>\n",
              "    .dataframe tbody tr th:only-of-type {\n",
              "        vertical-align: middle;\n",
              "    }\n",
              "\n",
              "    .dataframe tbody tr th {\n",
              "        vertical-align: top;\n",
              "    }\n",
              "\n",
              "    .dataframe thead th {\n",
              "        text-align: right;\n",
              "    }\n",
              "</style>\n",
              "<table border=\"1\" class=\"dataframe\">\n",
              "  <thead>\n",
              "    <tr style=\"text-align: right;\">\n",
              "      <th></th>\n",
              "      <th>Rank</th>\n",
              "      <th>Title</th>\n",
              "      <th>Genre</th>\n",
              "      <th>Description</th>\n",
              "      <th>Director</th>\n",
              "      <th>Actors</th>\n",
              "      <th>Year</th>\n",
              "      <th>Runtime (Minutes)</th>\n",
              "      <th>Rating</th>\n",
              "      <th>Votes</th>\n",
              "      <th>combined_features</th>\n",
              "    </tr>\n",
              "  </thead>\n",
              "  <tbody>\n",
              "    <tr>\n",
              "      <th>999</th>\n",
              "      <td>1000</td>\n",
              "      <td>Nine Lives</td>\n",
              "      <td>Comedy,Family,Fantasy</td>\n",
              "      <td>A stuffy businessman finds himself trapped ins...</td>\n",
              "      <td>Barry Sonnenfeld</td>\n",
              "      <td>Kevin Spacey, Jennifer Garner, Robbie Amell,Ch...</td>\n",
              "      <td>2016</td>\n",
              "      <td>87</td>\n",
              "      <td>5.3</td>\n",
              "      <td>12435</td>\n",
              "      <td>Nine Lives Comedy,Family,Fantasy A stuffy bus...</td>\n",
              "    </tr>\n",
              "  </tbody>\n",
              "</table>\n",
              "</div>"
            ],
            "text/plain": [
              "     Rank       Title  ...  Votes                                  combined_features\n",
              "999  1000  Nine Lives  ...  12435   Nine Lives Comedy,Family,Fantasy A stuffy bus...\n",
              "\n",
              "[1 rows x 11 columns]"
            ]
          },
          "metadata": {
            "tags": []
          },
          "execution_count": 242
        }
      ]
    },
    {
      "cell_type": "code",
      "metadata": {
        "colab": {
          "base_uri": "https://localhost:8080/",
          "height": 53
        },
        "id": "JL7kJ7Vp4C0W",
        "outputId": "e2015dde-b578-4bd8-9250-65653412f7f4"
      },
      "source": [
        "df.iloc[999]['combined_features']"
      ],
      "execution_count": 243,
      "outputs": [
        {
          "output_type": "execute_result",
          "data": {
            "application/vnd.google.colaboratory.intrinsic+json": {
              "type": "string"
            },
            "text/plain": [
              "\" Nine Lives Comedy,Family,Fantasy A stuffy businessman finds himself trapped inside the body of his family's cat. Barry Sonnenfeld Kevin Spacey, Jennifer Garner, Robbie Amell,Cheryl Hines\""
            ]
          },
          "metadata": {
            "tags": []
          },
          "execution_count": 243
        }
      ]
    },
    {
      "cell_type": "markdown",
      "metadata": {
        "id": "T5B5NFum0av-"
      },
      "source": [
        "Count vectorizer now converts entire texts to vectors."
      ]
    },
    {
      "cell_type": "code",
      "metadata": {
        "colab": {
          "base_uri": "https://localhost:8080/"
        },
        "id": "exCB5eau4eZd",
        "outputId": "99944572-18d4-4339-f350-cb819fb38fc1"
      },
      "source": [
        "from sklearn.feature_extraction.text import CountVectorizer\r\n",
        "cm = CountVectorizer()\r\n",
        "cm.fit(df['combined_features'])\r\n",
        "cm.vocabulary_"
      ],
      "execution_count": 246,
      "outputs": [
        {
          "output_type": "execute_result",
          "data": {
            "text/plain": [
              "{'guardians': 3677,\n",
              " 'of': 6015,\n",
              " 'the': 8332,\n",
              " 'galaxy': 3391,\n",
              " 'action': 178,\n",
              " 'adventure': 225,\n",
              " 'sci': 7365,\n",
              " 'fi': 3095,\n",
              " 'group': 3663,\n",
              " 'intergalactic': 4299,\n",
              " 'criminals': 2004,\n",
              " 'are': 525,\n",
              " 'forced': 3222,\n",
              " 'to': 8445,\n",
              " 'work': 9240,\n",
              " 'together': 8453,\n",
              " 'stop': 7968,\n",
              " 'fanatical': 3011,\n",
              " 'warrior': 9015,\n",
              " 'from': 3325,\n",
              " 'taking': 8186,\n",
              " 'control': 1878,\n",
              " 'universe': 8747,\n",
              " 'james': 4425,\n",
              " 'gunn': 3694,\n",
              " 'chris': 1599,\n",
              " 'pratt': 6548,\n",
              " 'vin': 8904,\n",
              " 'diesel': 2367,\n",
              " 'bradley': 1152,\n",
              " 'cooper': 1894,\n",
              " 'zoe': 9336,\n",
              " 'saldana': 7259,\n",
              " 'prometheus': 6632,\n",
              " 'mystery': 5781,\n",
              " 'following': 3208,\n",
              " 'clues': 1692,\n",
              " 'origin': 6105,\n",
              " 'mankind': 5266,\n",
              " 'team': 8246,\n",
              " 'finds': 3138,\n",
              " 'structure': 8014,\n",
              " 'on': 6061,\n",
              " 'distant': 2422,\n",
              " 'moon': 5665,\n",
              " 'but': 1309,\n",
              " 'they': 8357,\n",
              " 'soon': 7787,\n",
              " 'realize': 6833,\n",
              " 'not': 5955,\n",
              " 'alone': 350,\n",
              " 'ridley': 7058,\n",
              " 'scott': 7381,\n",
              " 'noomi': 5942,\n",
              " 'rapace': 6796,\n",
              " 'logan': 5057,\n",
              " 'marshall': 5323,\n",
              " 'green': 3627,\n",
              " 'michael': 5514,\n",
              " 'fassbender': 3034,\n",
              " 'charlize': 1538,\n",
              " 'theron': 8352,\n",
              " 'split': 7851,\n",
              " 'horror': 4029,\n",
              " 'thriller': 8391,\n",
              " 'three': 8390,\n",
              " 'girls': 3518,\n",
              " 'kidnapped': 4689,\n",
              " 'by': 1317,\n",
              " 'man': 5248,\n",
              " 'with': 9193,\n",
              " 'diagnosed': 2346,\n",
              " '23': 79,\n",
              " 'distinct': 2424,\n",
              " 'personalities': 6358,\n",
              " 'must': 5763,\n",
              " 'try': 8624,\n",
              " 'escape': 2849,\n",
              " 'before': 882,\n",
              " 'apparent': 497,\n",
              " 'emergence': 2731,\n",
              " 'frightful': 3321,\n",
              " 'new': 5873,\n",
              " '24th': 82,\n",
              " 'night': 5905,\n",
              " 'shyamalan': 7619,\n",
              " 'mcavoy': 5394,\n",
              " 'anya': 482,\n",
              " 'taylor': 8239,\n",
              " 'joy': 4551,\n",
              " 'haley': 3728,\n",
              " 'lu': 5123,\n",
              " 'richardson': 7043,\n",
              " 'jessica': 4474,\n",
              " 'sula': 8072,\n",
              " 'sing': 7658,\n",
              " 'animation': 441,\n",
              " 'comedy': 1761,\n",
              " 'family': 3006,\n",
              " 'in': 4194,\n",
              " 'city': 1629,\n",
              " 'humanoid': 4074,\n",
              " 'animals': 440,\n",
              " 'hustling': 4103,\n",
              " 'theater': 8334,\n",
              " 'impresario': 4188,\n",
              " 'attempt': 656,\n",
              " 'save': 7320,\n",
              " 'his': 3953,\n",
              " 'singing': 7661,\n",
              " 'competition': 1786,\n",
              " 'becomes': 872,\n",
              " 'grander': 3605,\n",
              " 'than': 8327,\n",
              " 'he': 3830,\n",
              " 'anticipates': 471,\n",
              " 'even': 2878,\n",
              " 'as': 587,\n",
              " 'its': 4384,\n",
              " 'finalists': 3129,\n",
              " 'find': 3135,\n",
              " 'that': 8331,\n",
              " 'their': 8337,\n",
              " 'lives': 5036,\n",
              " 'will': 9152,\n",
              " 'never': 5871,\n",
              " 'be': 851,\n",
              " 'same': 7275,\n",
              " 'christophe': 1607,\n",
              " 'lourdelet': 5102,\n",
              " 'matthew': 5367,\n",
              " 'mcconaughey': 5402,\n",
              " 'reese': 6883,\n",
              " 'witherspoon': 9194,\n",
              " 'seth': 7492,\n",
              " 'macfarlane': 5176,\n",
              " 'scarlett': 7337,\n",
              " 'johansson': 4501,\n",
              " 'suicide': 8067,\n",
              " 'squad': 7870,\n",
              " 'fantasy': 3016,\n",
              " 'secret': 7410,\n",
              " 'government': 3587,\n",
              " 'agency': 256,\n",
              " 'recruits': 6872,\n",
              " 'some': 7768,\n",
              " 'most': 5698,\n",
              " 'dangerous': 2116,\n",
              " 'incarcerated': 4198,\n",
              " 'super': 8086,\n",
              " 'villains': 8901,\n",
              " 'form': 3238,\n",
              " 'defensive': 2222,\n",
              " 'task': 8228,\n",
              " 'force': 3221,\n",
              " 'first': 3147,\n",
              " 'mission': 5594,\n",
              " 'world': 9245,\n",
              " 'apocalypse': 492,\n",
              " 'david': 2151,\n",
              " 'ayer': 717,\n",
              " 'smith': 7727,\n",
              " 'jared': 4440,\n",
              " 'leto': 4960,\n",
              " 'margot': 5292,\n",
              " 'robbie': 7109,\n",
              " 'viola': 8914,\n",
              " 'davis': 2153,\n",
              " 'great': 3619,\n",
              " 'wall': 8986,\n",
              " 'european': 2871,\n",
              " 'mercenaries': 5486,\n",
              " 'searching': 7402,\n",
              " 'for': 3219,\n",
              " 'black': 1009,\n",
              " 'powder': 6536,\n",
              " 'become': 871,\n",
              " 'embroiled': 2729,\n",
              " 'defense': 2220,\n",
              " 'china': 1584,\n",
              " 'against': 251,\n",
              " 'horde': 4023,\n",
              " 'monstrous': 5656,\n",
              " 'creatures': 1992,\n",
              " 'yimou': 9297,\n",
              " 'zhang': 9330,\n",
              " 'matt': 5363,\n",
              " 'damon': 2106,\n",
              " 'tian': 8406,\n",
              " 'jing': 4486,\n",
              " 'willem': 9154,\n",
              " 'dafoe': 2085,\n",
              " 'andy': 423,\n",
              " 'lau': 4879,\n",
              " 'la': 4815,\n",
              " 'land': 4836,\n",
              " 'drama': 2530,\n",
              " 'music': 5759,\n",
              " 'jazz': 4450,\n",
              " 'pianist': 6399,\n",
              " 'falls': 3000,\n",
              " 'an': 399,\n",
              " 'aspiring': 610,\n",
              " 'actress': 187,\n",
              " 'los': 5087,\n",
              " 'angeles': 427,\n",
              " 'damien': 2103,\n",
              " 'chazelle': 1553,\n",
              " 'ryan': 7229,\n",
              " 'gosling': 3581,\n",
              " 'emma': 2739,\n",
              " 'stone': 7965,\n",
              " 'rosemarie': 7168,\n",
              " 'dewitt': 2341,\n",
              " 'simmons': 7648,\n",
              " 'mindhorn': 5564,\n",
              " 'has': 3796,\n",
              " 'been': 879,\n",
              " 'actor': 185,\n",
              " 'best': 948,\n",
              " 'known': 4753,\n",
              " 'playing': 6459,\n",
              " 'title': 8443,\n",
              " 'character': 1530,\n",
              " '1980s': 43,\n",
              " 'detective': 2318,\n",
              " 'series': 7477,\n",
              " 'police': 6483,\n",
              " 'when': 9101,\n",
              " 'serial': 7476,\n",
              " 'killer': 4702,\n",
              " 'says': 7329,\n",
              " 'only': 6068,\n",
              " 'speak': 7818,\n",
              " 'whom': 9127,\n",
              " 'believes': 903,\n",
              " 'real': 6828,\n",
              " 'person': 6355,\n",
              " 'sean': 7397,\n",
              " 'foley': 3203,\n",
              " 'essie': 2860,\n",
              " 'andrea': 416,\n",
              " 'riseborough': 7083,\n",
              " 'julian': 4563,\n",
              " 'barratt': 809,\n",
              " 'kenneth': 4666,\n",
              " 'branagh': 1157,\n",
              " 'lost': 5094,\n",
              " 'biography': 989,\n",
              " 'true': 8618,\n",
              " 'life': 4989,\n",
              " 'centering': 1489,\n",
              " 'british': 1223,\n",
              " 'explorer': 2942,\n",
              " 'col': 1718,\n",
              " 'percival': 6328,\n",
              " 'fawcett': 3050,\n",
              " 'who': 9125,\n",
              " 'disappeared': 2394,\n",
              " 'while': 9107,\n",
              " 'mysterious': 5779,\n",
              " 'amazon': 376,\n",
              " '1920s': 19,\n",
              " 'gray': 3617,\n",
              " 'charlie': 1537,\n",
              " 'hunnam': 4083,\n",
              " 'robert': 7111,\n",
              " 'pattinson': 6277,\n",
              " 'sienna': 7631,\n",
              " 'miller': 5554,\n",
              " 'tom': 8461,\n",
              " 'holland': 3987,\n",
              " 'passengers': 6254,\n",
              " 'romance': 7144,\n",
              " 'spacecraft': 7806,\n",
              " 'traveling': 8559,\n",
              " 'colony': 1746,\n",
              " 'planet': 6442,\n",
              " 'and': 410,\n",
              " 'transporting': 8550,\n",
              " 'thousands': 8382,\n",
              " 'people': 6324,\n",
              " 'malfunction': 5233,\n",
              " 'sleep': 7703,\n",
              " 'chambers': 1509,\n",
              " 'result': 6986,\n",
              " 'two': 8656,\n",
              " 'awakened': 704,\n",
              " '90': 108,\n",
              " 'years': 9288,\n",
              " 'early': 2618,\n",
              " 'morten': 5690,\n",
              " 'tyldum': 8662,\n",
              " 'jennifer': 4464,\n",
              " 'lawrence': 4894,\n",
              " 'sheen': 7564,\n",
              " 'laurence': 4887,\n",
              " 'fishburne': 3152,\n",
              " 'fantastic': 3015,\n",
              " 'beasts': 858,\n",
              " 'where': 9103,\n",
              " 'them': 8338,\n",
              " 'adventures': 227,\n",
              " 'writer': 9268,\n",
              " 'newt': 5881,\n",
              " 'scamander': 7332,\n",
              " 'york': 9302,\n",
              " 'community': 1778,\n",
              " 'witches': 9192,\n",
              " 'wizards': 9208,\n",
              " 'seventy': 7503,\n",
              " 'harry': 3790,\n",
              " 'potter': 6530,\n",
              " 'reads': 6826,\n",
              " 'book': 1101,\n",
              " 'school': 7353,\n",
              " 'yates': 9286,\n",
              " 'eddie': 2638,\n",
              " 'redmayne': 6881,\n",
              " 'katherine': 4628,\n",
              " 'waterston': 9034,\n",
              " 'alison': 332,\n",
              " 'sudol': 8057,\n",
              " 'dan': 2107,\n",
              " 'fogler': 3200,\n",
              " 'hidden': 3921,\n",
              " 'figures': 3118,\n",
              " 'history': 3958,\n",
              " 'story': 7976,\n",
              " 'female': 3076,\n",
              " 'african': 246,\n",
              " 'american': 385,\n",
              " 'mathematicians': 5359,\n",
              " 'served': 7483,\n",
              " 'vital': 8932,\n",
              " 'role': 7136,\n",
              " 'nasa': 5812,\n",
              " 'during': 2589,\n",
              " 'space': 7805,\n",
              " 'program': 6622,\n",
              " 'theodore': 8345,\n",
              " 'melfi': 5469,\n",
              " 'taraji': 8217,\n",
              " 'henson': 3894,\n",
              " 'octavia': 6006,\n",
              " 'spencer': 7830,\n",
              " 'janelle': 4431,\n",
              " 'monáe': 5663,\n",
              " 'kevin': 4676,\n",
              " 'costner': 1932,\n",
              " 'rogue': 7134,\n",
              " 'one': 6063,\n",
              " 'rebel': 6845,\n",
              " 'alliance': 339,\n",
              " 'makes': 5227,\n",
              " 'risky': 7089,\n",
              " 'move': 5714,\n",
              " 'steal': 7924,\n",
              " 'plans': 6444,\n",
              " 'death': 2175,\n",
              " 'star': 7903,\n",
              " 'setting': 7495,\n",
              " 'up': 8789,\n",
              " 'epic': 2815,\n",
              " 'saga': 7250,\n",
              " 'follow': 3206,\n",
              " 'gareth': 3414,\n",
              " 'edwards': 2650,\n",
              " 'felicity': 3072,\n",
              " 'jones': 4522,\n",
              " 'diego': 2365,\n",
              " 'luna': 5142,\n",
              " 'alan': 294,\n",
              " 'tudyk': 8628,\n",
              " 'donnie': 2490,\n",
              " 'yen': 9291,\n",
              " 'moana': 5613,\n",
              " 'ancient': 409,\n",
              " 'polynesia': 6488,\n",
              " 'terrible': 8302,\n",
              " 'curse': 2059,\n",
              " 'incurred': 4208,\n",
              " 'demigod': 2250,\n",
              " 'maui': 5372,\n",
              " 'reaches': 6823,\n",
              " 'impetuous': 4177,\n",
              " 'chieftain': 1575,\n",
              " 'daughter': 2147,\n",
              " 'island': 4373,\n",
              " 'she': 7560,\n",
              " 'answers': 462,\n",
              " 'ocean': 6004,\n",
              " 'call': 1345,\n",
              " 'seek': 7425,\n",
              " 'out': 6133,\n",
              " 'set': 7490,\n",
              " 'things': 8361,\n",
              " 'right': 7065,\n",
              " 'ron': 7152,\n",
              " 'clements': 1662,\n",
              " 'auli': 677,\n",
              " 'cravalho': 1979,\n",
              " 'dwayne': 2600,\n",
              " 'johnson': 4505,\n",
              " 'rachel': 6745,\n",
              " 'house': 4049,\n",
              " 'temuera': 8281,\n",
              " 'morrison': 5686,\n",
              " 'colossal': 1747,\n",
              " 'gloria': 3538,\n",
              " 'is': 4362,\n",
              " 'party': 6247,\n",
              " 'girl': 3515,\n",
              " 'leave': 4916,\n",
              " 'her': 3896,\n",
              " 'back': 734,\n",
              " 'home': 3997,\n",
              " 'reports': 6955,\n",
              " 'surface': 8109,\n",
              " 'giant': 3491,\n",
              " 'creature': 1991,\n",
              " 'destroying': 2313,\n",
              " 'seoul': 7463,\n",
              " 'gradually': 3595,\n",
              " 'comes': 1762,\n",
              " 'realization': 6832,\n",
              " 'somehow': 7769,\n",
              " 'connected': 1830,\n",
              " 'this': 8371,\n",
              " 'phenomenon': 6380,\n",
              " 'nacho': 5792,\n",
              " 'vigalondo': 8887,\n",
              " 'anne': 449,\n",
              " 'hathaway': 3805,\n",
              " 'jason': 4444,\n",
              " 'sudeikis': 8056,\n",
              " 'austin': 680,\n",
              " 'stowell': 7979,\n",
              " 'tim': 8423,\n",
              " 'blake': 1019,\n",
              " 'nelson': 5860,\n",
              " 'pets': 6369,\n",
              " 'quiet': 6724,\n",
              " 'terrier': 8304,\n",
              " 'named': 5803,\n",
              " 'max': 5379,\n",
              " 'upended': 8792,\n",
              " 'owner': 6161,\n",
              " 'takes': 8185,\n",
              " 'duke': 2576,\n",
              " 'stray': 7991,\n",
              " 'instantly': 4276,\n",
              " 'dislikes': 2414,\n",
              " 'renaud': 6936,\n",
              " 'louis': 5099,\n",
              " 'eric': 2835,\n",
              " 'stonestreet': 7967,\n",
              " 'hart': 3791,\n",
              " 'lake': 4833,\n",
              " 'bell': 905,\n",
              " 'hacksaw': 3712,\n",
              " 'ridge': 7056,\n",
              " 'wwii': 9274,\n",
              " 'army': 556,\n",
              " 'medic': 5456,\n",
              " 'desmond': 2300,\n",
              " 'doss': 2508,\n",
              " 'battle': 837,\n",
              " 'okinawa': 6036,\n",
              " 'refuses': 6890,\n",
              " 'kill': 4700,\n",
              " 'receive': 6853,\n",
              " 'medal': 5454,\n",
              " 'honor': 4008,\n",
              " 'without': 9196,\n",
              " 'firing': 3146,\n",
              " 'shot': 7604,\n",
              " 'mel': 5466,\n",
              " 'gibson': 3493,\n",
              " 'andrew': 418,\n",
              " 'garfield': 3415,\n",
              " 'sam': 7272,\n",
              " 'worthington': 9254,\n",
              " 'luke': 5139,\n",
              " 'bracey': 1149,\n",
              " 'teresa': 8293,\n",
              " 'palmer': 6193,\n",
              " 'bourne': 1131,\n",
              " 'cia': 1617,\n",
              " 'former': 3239,\n",
              " 'operative': 6078,\n",
              " 'drawn': 2534,\n",
              " 'hiding': 3924,\n",
              " 'uncover': 8702,\n",
              " 'more': 5674,\n",
              " 'explosive': 2945,\n",
              " 'truths': 8623,\n",
              " 'about': 131,\n",
              " 'past': 6259,\n",
              " 'paul': 6281,\n",
              " 'greengrass': 3630,\n",
              " 'tommy': 8466,\n",
              " 'lee': 4925,\n",
              " 'alicia': 326,\n",
              " 'vikander': 8892,\n",
              " 'vincent': 8906,\n",
              " 'cassel': 1450,\n",
              " 'lion': 5022,\n",
              " 'five': 3161,\n",
              " 'year': 9287,\n",
              " 'old': 6041,\n",
              " 'indian': 4213,\n",
              " 'boy': 1140,\n",
              " 'gets': 3479,\n",
              " 'streets': 7994,\n",
              " 'calcutta': 1342,\n",
              " 'kilometers': 4708,\n",
              " 'survives': 8123,\n",
              " 'many': 5277,\n",
              " 'challenges': 1506,\n",
              " 'being': 892,\n",
              " 'adopted': 212,\n",
              " 'couple': 1951,\n",
              " 'australia': 681,\n",
              " '25': 83,\n",
              " 'later': 4874,\n",
              " 'sets': 7494,\n",
              " 'garth': 3424,\n",
              " 'dev': 2327,\n",
              " 'patel': 6263,\n",
              " 'nicole': 5898,\n",
              " 'kidman': 4687,\n",
              " 'rooney': 7162,\n",
              " 'mara': 5280,\n",
              " 'sunny': 8083,\n",
              " 'pawar': 6287,\n",
              " 'arrival': 567,\n",
              " 'twelve': 8646,\n",
              " 'appear': 499,\n",
              " 'around': 561,\n",
              " 'linguistics': 5015,\n",
              " 'professor': 6618,\n",
              " 'louise': 5100,\n",
              " 'banks': 781,\n",
              " 'tasked': 8229,\n",
              " 'interpreting': 4307,\n",
              " 'language': 4847,\n",
              " 'alien': 328,\n",
              " 'visitors': 8930,\n",
              " 'denis': 2262,\n",
              " 'villeneuve': 8903,\n",
              " 'amy': 398,\n",
              " 'adams': 192,\n",
              " 'jeremy': 4470,\n",
              " 'renner': 6942,\n",
              " 'forest': 3229,\n",
              " 'whitaker': 9116,\n",
              " 'stuhlbarg': 8027,\n",
              " 'gold': 3560,\n",
              " 'kenny': 4667,\n",
              " 'wells': 9078,\n",
              " 'prospector': 6647,\n",
              " 'desperate': 2303,\n",
              " 'lucky': 5131,\n",
              " 'break': 1174,\n",
              " 'teams': 8250,\n",
              " 'similarly': 7647,\n",
              " 'eager': 2612,\n",
              " 'geologist': 3463,\n",
              " 'off': 6016,\n",
              " 'journey': 4547,\n",
              " 'uncharted': 8695,\n",
              " 'jungle': 4576,\n",
              " 'indonesia': 4218,\n",
              " 'stephen': 7938,\n",
              " 'gaghan': 3383,\n",
              " 'edgar': 2640,\n",
              " 'ramírez': 6782,\n",
              " 'bryce': 1256,\n",
              " 'dallas': 2095,\n",
              " 'howard': 4055,\n",
              " 'corey': 1908,\n",
              " 'stoll': 7962,\n",
              " 'manchester': 5251,\n",
              " 'sea': 7395,\n",
              " 'depressed': 2278,\n",
              " 'uncle': 8697,\n",
              " 'asked': 605,\n",
              " 'take': 8181,\n",
              " 'care': 1396,\n",
              " 'teenage': 8259,\n",
              " 'nephew': 5864,\n",
              " 'after': 247,\n",
              " 'father': 3043,\n",
              " 'dies': 2366,\n",
              " 'lonergan': 5066,\n",
              " 'casey': 1443,\n",
              " 'affleck': 239,\n",
              " 'michelle': 5522,\n",
              " 'williams': 9156,\n",
              " 'kyle': 4811,\n",
              " 'chandler': 1515,\n",
              " 'lucas': 5127,\n",
              " 'hedges': 3858,\n",
              " 'hounds': 4045,\n",
              " 'love': 5104,\n",
              " 'crime': 2000,\n",
              " 'cold': 1719,\n",
              " 'blooded': 1047,\n",
              " 'predatory': 6552,\n",
              " 'cruising': 2026,\n",
              " 'search': 7400,\n",
              " 'next': 5883,\n",
              " 'victim': 8877,\n",
              " 'stumble': 8028,\n",
              " 'upon': 8795,\n",
              " '17': 13,\n",
              " 'high': 3925,\n",
              " 'sedated': 7418,\n",
              " 'abducted': 122,\n",
              " 'chained': 1501,\n",
              " 'strangers': 7987,\n",
              " 'guest': 3680,\n",
              " 'room': 7160,\n",
              " 'ben': 912,\n",
              " 'young': 9304,\n",
              " 'booth': 1106,\n",
              " 'ashleigh': 600,\n",
              " 'cummings': 2048,\n",
              " 'curry': 2058,\n",
              " 'susie': 8129,\n",
              " 'porter': 6506,\n",
              " 'trolls': 8602,\n",
              " 'bergens': 933,\n",
              " 'invade': 4324,\n",
              " 'troll': 8601,\n",
              " 'village': 8897,\n",
              " 'poppy': 6497,\n",
              " 'happiest': 3765,\n",
              " 'ever': 2883,\n",
              " 'born': 1114,\n",
              " 'curmudgeonly': 2055,\n",
              " 'branch': 1158,\n",
              " 'rescue': 6962,\n",
              " 'friends': 3318,\n",
              " 'walt': 8994,\n",
              " 'dohrn': 2464,\n",
              " 'anna': 444,\n",
              " 'kendrick': 4664,\n",
              " 'justin': 4586,\n",
              " 'timberlake': 8424,\n",
              " 'zooey': 9343,\n",
              " 'deschanel': 2289,\n",
              " 'christopher': 1608,\n",
              " 'mintz': 5576,\n",
              " 'plasse': 6448,\n",
              " 'independence': 4210,\n",
              " 'day': 2158,\n",
              " 'resurgence': 6989,\n",
              " 'decades': 2190,\n",
              " 'invasion': 4329,\n",
              " 'earth': 2621,\n",
              " 'faced': 2972,\n",
              " 'extra': 2954,\n",
              " 'solar': 7754,\n",
              " 'threat': 8384,\n",
              " 'defenses': 2221,\n",
              " 'enough': 2795,\n",
              " 'roland': 7135,\n",
              " 'emmerich': 2742,\n",
              " 'liam': 4977,\n",
              " 'hemsworth': 3885,\n",
              " 'jeff': 4453,\n",
              " 'goldblum': 3562,\n",
              " 'bill': 978,\n",
              " 'pullman': 6682,\n",
              " 'maika': 5218,\n",
              " 'monroe': 5653,\n",
              " 'paris': 6225,\n",
              " 'pieds': 6405,\n",
              " 'nus': 5972,\n",
              " 'fiona': 3142,\n",
              " 'visits': 8931,\n",
              " 'time': 8425,\n",
              " 'assist': 628,\n",
              " 'myopic': 5777,\n",
              " 'aunt': 678,\n",
              " 'martha': 5325,\n",
              " 'catastrophes': 1458,\n",
              " 'ensue': 2799,\n",
              " 'mainly': 5220,\n",
              " 'involving': 4346,\n",
              " 'dom': 2471,\n",
              " 'homeless': 3999,\n",
              " 'yet': 9295,\n",
              " 'have': 3813,\n",
              " 'emotion': 2745,\n",
              " 'or': 6092,\n",
              " 'thought': 8380,\n",
              " 'was': 9019,\n",
              " 'afraid': 244,\n",
              " 'expressing': 2948,\n",
              " 'dominique': 2479,\n",
              " 'abel': 123,\n",
              " 'gordon': 3578,\n",
              " 'emmanuelle': 2741,\n",
              " 'riva': 7093,\n",
              " 'pierre': 6407,\n",
              " 'richard': 7041,\n",
              " 'bahubali': 752,\n",
              " 'beginning': 887,\n",
              " 'india': 4212,\n",
              " 'adventurous': 228,\n",
              " 'daring': 2132,\n",
              " 'involved': 4345,\n",
              " 'feud': 3092,\n",
              " 'between': 959,\n",
              " 'warring': 9014,\n",
              " 'rajamouli': 6772,\n",
              " 'prabhas': 6545,\n",
              " 'rana': 6784,\n",
              " 'daggubati': 2087,\n",
              " 'anushka': 479,\n",
              " 'shetty': 7576,\n",
              " 'tamannaah': 8198,\n",
              " 'bhatia': 964,\n",
              " 'dead': 2162,\n",
              " 'awake': 703,\n",
              " 'woman': 9215,\n",
              " 'herself': 3912,\n",
              " 'evil': 2895,\n",
              " 'stalks': 7890,\n",
              " 'victims': 8878,\n",
              " 'through': 8395,\n",
              " 'paralysis': 6216,\n",
              " 'phillip': 6384,\n",
              " 'guzman': 3701,\n",
              " 'jocelin': 4493,\n",
              " 'donahue': 2481,\n",
              " 'jesse': 4473,\n",
              " 'bradford': 1151,\n",
              " 'borrego': 1115,\n",
              " 'lori': 5085,\n",
              " 'petty': 6370,\n",
              " 'bad': 742,\n",
              " 'moms': 5644,\n",
              " 'overworked': 6158,\n",
              " 'under': 8706,\n",
              " 'appreciated': 505,\n",
              " 'pushed': 6696,\n",
              " 'beyond': 961,\n",
              " 'limits': 5006,\n",
              " 'ditch': 2431,\n",
              " 'conventional': 1881,\n",
              " 'responsibilities': 6979,\n",
              " 'jolt': 4517,\n",
              " 'long': 5067,\n",
              " 'overdue': 6151,\n",
              " 'freedom': 3299,\n",
              " 'fun': 3350,\n",
              " 'comedic': 1760,\n",
              " 'self': 7441,\n",
              " 'indulgence': 4221,\n",
              " 'jon': 4518,\n",
              " 'mila': 5544,\n",
              " 'kunis': 4798,\n",
              " 'kathryn': 4630,\n",
              " 'hahn': 3720,\n",
              " 'kristen': 4785,\n",
              " 'christina': 1603,\n",
              " 'applegate': 502,\n",
              " 'assassin': 614,\n",
              " 'creed': 1994,\n",
              " 'callum': 1351,\n",
              " 'lynch': 5155,\n",
              " 'explores': 2944,\n",
              " 'memories': 5475,\n",
              " 'ancestor': 407,\n",
              " 'aguilar': 266,\n",
              " 'gains': 3387,\n",
              " 'skills': 7683,\n",
              " 'master': 5344,\n",
              " 'discovers': 2404,\n",
              " 'descendant': 2286,\n",
              " 'assassins': 619,\n",
              " 'society': 7749,\n",
              " 'kurzel': 4802,\n",
              " 'marion': 5304,\n",
              " 'cotillard': 1935,\n",
              " 'irons': 4356,\n",
              " 'brendan': 1188,\n",
              " 'gleeson': 3533,\n",
              " 'why': 9129,\n",
              " 'him': 3938,\n",
              " 'holiday': 3986,\n",
              " 'gathering': 3432,\n",
              " 'threatens': 8388,\n",
              " 'go': 3545,\n",
              " 'rails': 6765,\n",
              " 'ned': 5844,\n",
              " 'fleming': 3176,\n",
              " 'realizes': 6834,\n",
              " 'silicon': 7641,\n",
              " 'valley': 8826,\n",
              " 'millionaire': 5558,\n",
              " 'boyfriend': 1143,\n",
              " 'pop': 6495,\n",
              " 'question': 6719,\n",
              " 'john': 4502,\n",
              " 'hamburg': 3737,\n",
              " 'zoey': 9337,\n",
              " 'deutch': 2326,\n",
              " 'franco': 3274,\n",
              " 'tangie': 8205,\n",
              " 'ambrose': 380,\n",
              " 'cedric': 1481,\n",
              " 'entertainer': 2805,\n",
              " 'nocturnal': 5936,\n",
              " 'wealthy': 9047,\n",
              " 'art': 570,\n",
              " 'gallery': 3396,\n",
              " 'haunted': 3809,\n",
              " 'ex': 2903,\n",
              " 'husband': 4097,\n",
              " 'novel': 5961,\n",
              " 'violent': 8917,\n",
              " 'interprets': 4308,\n",
              " 'symbolic': 8158,\n",
              " 'revenge': 7015,\n",
              " 'tale': 8187,\n",
              " 'ford': 3225,\n",
              " 'jake': 4421,\n",
              " 'gyllenhaal': 3703,\n",
              " 'shannon': 7537,\n",
              " 'aaron': 112,\n",
              " 'men': 5477,\n",
              " 're': 6819,\n",
              " 'mutant': 5765,\n",
              " 'destroyer': 2312,\n",
              " 'unite': 8744,\n",
              " 'defeat': 2213,\n",
              " 'extinction': 2951,\n",
              " 'level': 4967,\n",
              " 'plan': 6440,\n",
              " 'bryan': 1255,\n",
              " 'singer': 7659,\n",
              " 'nicholas': 5891,\n",
              " 'hoult': 4044,\n",
              " 'deadpool': 2165,\n",
              " 'fast': 3035,\n",
              " 'talking': 8194,\n",
              " 'mercenary': 5487,\n",
              " 'morbid': 5673,\n",
              " 'sense': 7457,\n",
              " 'humor': 4077,\n",
              " 'subjected': 8040,\n",
              " 'experiment': 2933,\n",
              " 'leaves': 4917,\n",
              " 'accelerated': 150,\n",
              " 'healing': 3840,\n",
              " 'powers': 6541,\n",
              " 'quest': 6718,\n",
              " 'reynolds': 7028,\n",
              " 'morena': 5676,\n",
              " 'baccarin': 732,\n",
              " 'ed': 2637,\n",
              " 'skrein': 7688,\n",
              " 'resident': 6968,\n",
              " 'final': 3128,\n",
              " 'chapter': 1529,\n",
              " 'alice': 325,\n",
              " 'returns': 7005,\n",
              " 'nightmare': 5907,\n",
              " 'began': 885,\n",
              " 'hive': 3966,\n",
              " 'raccoon': 6739,\n",
              " 'umbrella': 8684,\n",
              " 'corporation': 1917,\n",
              " 'forces': 3223,\n",
              " 'strike': 8001,\n",
              " 'remaining': 6931,\n",
              " 'survivors': 8126,\n",
              " 'anderson': 413,\n",
              " 'milla': 5552,\n",
              " 'jovovich': 4550,\n",
              " 'iain': 4114,\n",
              " 'glen': 3534,\n",
              " 'ali': 323,\n",
              " 'larter': 4864,\n",
              " 'shawn': 7558,\n",
              " 'roberts': 7113,\n",
              " 'captain': 1383,\n",
              " 'america': 384,\n",
              " 'civil': 1630,\n",
              " 'war': 9004,\n",
              " 'political': 6485,\n",
              " 'interference': 4298,\n",
              " 'avengers': 696,\n",
              " 'activities': 184,\n",
              " 'causes': 1472,\n",
              " 'rift': 7060,\n",
              " 'allies': 342,\n",
              " 'iron': 4355,\n",
              " 'anthony': 466,\n",
              " 'russo': 7223,\n",
              " 'evans': 2876,\n",
              " 'downey': 2517,\n",
              " 'jr': 4552,\n",
              " 'sebastian': 7407,\n",
              " 'stan': 7895,\n",
              " 'interstellar': 4311,\n",
              " 'explorers': 2943,\n",
              " 'travel': 8558,\n",
              " 'wormhole': 9249,\n",
              " 'ensure': 2800,\n",
              " 'humanity': 4072,\n",
              " 'survival': 8120,\n",
              " 'nolan': 5938,\n",
              " 'chastain': 1545,\n",
              " 'mackenzie': 5181,\n",
              " 'foy': 3261,\n",
              " 'doctor': 2453,\n",
              " 'strange': 7984,\n",
              " 'physical': 6395,\n",
              " 'spiritual': 7847,\n",
              " 'brilliant': 1214,\n",
              " 'neurosurgeon': 5869,\n",
              " 'into': 4317,\n",
              " 'mystic': 5782,\n",
              " 'arts': 583,\n",
              " 'derrickson': 2284,\n",
              " 'benedict': 914,\n",
              " 'cumberbatch': 2047,\n",
              " 'chiwetel': 1587,\n",
              " 'ejiofor': 2673,\n",
              " 'mcadams': 5392,\n",
              " 'wong': 9223,\n",
              " 'magnificent': 5209,\n",
              " 'seven': 7500,\n",
              " 'western': 9093,\n",
              " 'gunmen': 3693,\n",
              " 'west': 9092,\n",
              " 'come': 1757,\n",
              " 'help': 3879,\n",
              " 'poor': 6493,\n",
              " 'savage': 7317,\n",
              " 'thieves': 8359,\n",
              " 'antoine': 474,\n",
              " 'fuqua': 3355,\n",
              " 'denzel': 2270,\n",
              " 'washington': 9021,\n",
              " 'ethan': 2869,\n",
              " 'hawke': 3819,\n",
              " 'onofrio': 6070,\n",
              " '77': 106,\n",
              " 'alienated': 329,\n",
              " 'hopeful': 4017,\n",
              " 'filmmaker': 3124,\n",
              " 'pat': 6262,\n",
              " 'growing': 3666,\n",
              " 'rural': 7218,\n",
              " 'illinois': 4146,\n",
              " 'falling': 2999,\n",
              " 'becoming': 873,\n",
              " 'fan': 3010,\n",
              " 'movie': 5718,\n",
              " 'changed': 1517,\n",
              " 'everything': 2890,\n",
              " 'patrick': 6272,\n",
              " 'read': 6824,\n",
              " 'francis': 3272,\n",
              " 'daley': 2093,\n",
              " 'pendleton': 6316,\n",
              " 'colleen': 1732,\n",
              " 'camp': 1359,\n",
              " 'neil': 5856,\n",
              " 'flynn': 3192,\n",
              " 'sausage': 7316,\n",
              " 'strives': 8009,\n",
              " 'discover': 2401,\n",
              " 'truth': 8622,\n",
              " 'existence': 2920,\n",
              " 'greg': 3634,\n",
              " 'tiernan': 8413,\n",
              " 'rogen': 7131,\n",
              " 'wiig': 9144,\n",
              " 'jonah': 4519,\n",
              " 'hill': 3935,\n",
              " 'alistair': 333,\n",
              " 'abell': 124,\n",
              " 'moonlight': 5666,\n",
              " 'chronicle': 1610,\n",
              " 'childhood': 1579,\n",
              " 'adolescence': 209,\n",
              " 'burgeoning': 1280,\n",
              " 'adulthood': 221,\n",
              " 'gay': 3439,\n",
              " 'rough': 7180,\n",
              " 'neighborhood': 5854,\n",
              " 'miami': 5513,\n",
              " ...}"
            ]
          },
          "metadata": {
            "tags": []
          },
          "execution_count": 246
        }
      ]
    },
    {
      "cell_type": "code",
      "metadata": {
        "id": "mo-GAYh_07BC"
      },
      "source": [
        "cm = cm.transform(df['combined_features'])"
      ],
      "execution_count": 247,
      "outputs": []
    },
    {
      "cell_type": "code",
      "metadata": {
        "colab": {
          "base_uri": "https://localhost:8080/"
        },
        "id": "Pl1zdP0b4zzk",
        "outputId": "48ba86db-5825-4609-ac04-bf4ecc828448"
      },
      "source": [
        "cm"
      ],
      "execution_count": 248,
      "outputs": [
        {
          "output_type": "execute_result",
          "data": {
            "text/plain": [
              "<1000x9359 sparse matrix of type '<class 'numpy.int64'>'\n",
              "\twith 38547 stored elements in Compressed Sparse Row format>"
            ]
          },
          "metadata": {
            "tags": []
          },
          "execution_count": 248
        }
      ]
    },
    {
      "cell_type": "markdown",
      "metadata": {
        "id": "WEhk1Cfx1qRe"
      },
      "source": [
        "Cosine similarity measures the similarity between vectors based on cosine angle between them. The more the value the better.\r\n",
        "If cos(theta) = 1, overlaps .i.e same vectors\r\n",
        "\r\n",
        "We will be plotting pairwise cosine similarity; 1000 movies vs 1000 movies\r\n",
        "If 1, means same movie."
      ]
    },
    {
      "cell_type": "code",
      "metadata": {
        "colab": {
          "base_uri": "https://localhost:8080/"
        },
        "id": "qcilHujC47vy",
        "outputId": "58d7beaa-e752-476a-b103-9d691984df4b"
      },
      "source": [
        "from sklearn.metrics.pairwise import cosine_similarity\r\n",
        "cs = cosine_similarity(cm)\r\n",
        "print(cs)"
      ],
      "execution_count": 147,
      "outputs": [
        {
          "output_type": "stream",
          "text": [
            "[[1.         0.25692801 0.21021383 ... 0.2306328  0.25391836 0.13543224]\n",
            " [0.25692801 1.         0.15384615 ... 0.10127394 0.1672484  0.08920516]\n",
            " [0.21021383 0.15384615 1.         ... 0.10127394 0.13937367 0.0594701 ]\n",
            " ...\n",
            " [0.2306328  0.10127394 0.10127394 ... 1.         0.13762047 0.11744404]\n",
            " [0.25391836 0.1672484  0.13937367 ... 0.13762047 1.         0.09697623]\n",
            " [0.13543224 0.08920516 0.0594701  ... 0.11744404 0.09697623 1.        ]]\n"
          ],
          "name": "stdout"
        }
      ]
    },
    {
      "cell_type": "markdown",
      "metadata": {
        "id": "Z8d2-OGm5jHt"
      },
      "source": [
        "Here each row and column represnt a movie, and the correlation between each is given, where it is 1, it means they are the same movie. It'll be 1 across diagonal."
      ]
    },
    {
      "cell_type": "code",
      "metadata": {
        "colab": {
          "base_uri": "https://localhost:8080/"
        },
        "id": "3DvcbIr85g-W",
        "outputId": "1d7eb245-e10f-475e-ce1d-be6add93e49a"
      },
      "source": [
        "cs.shape"
      ],
      "execution_count": 148,
      "outputs": [
        {
          "output_type": "execute_result",
          "data": {
            "text/plain": [
              "(1000, 1000)"
            ]
          },
          "metadata": {
            "tags": []
          },
          "execution_count": 148
        }
      ]
    },
    {
      "cell_type": "markdown",
      "metadata": {
        "id": "XzHslaoF8y-g"
      },
      "source": [
        "Picking any random movie, say user likes this movie say 'Fury'."
      ]
    },
    {
      "cell_type": "code",
      "metadata": {
        "id": "wB0hgMdT-b5A"
      },
      "source": [
        "movie_title = 'Fury'"
      ],
      "execution_count": 214,
      "outputs": []
    },
    {
      "cell_type": "markdown",
      "metadata": {
        "id": "U5ynuhNY9UbY"
      },
      "source": [
        "Getting index of the movie."
      ]
    },
    {
      "cell_type": "code",
      "metadata": {
        "id": "AMkC08U99Tny"
      },
      "source": [
        "movie_id = df[df['Title'] == movie_title].index.values"
      ],
      "execution_count": 215,
      "outputs": []
    },
    {
      "cell_type": "code",
      "metadata": {
        "colab": {
          "base_uri": "https://localhost:8080/"
        },
        "id": "ZXTPjF5wszMd",
        "outputId": "2377e1a0-beb6-4e9f-b13e-3fde33704772"
      },
      "source": [
        "movie_id"
      ],
      "execution_count": 216,
      "outputs": [
        {
          "output_type": "execute_result",
          "data": {
            "text/plain": [
              "array([240])"
            ]
          },
          "metadata": {
            "tags": []
          },
          "execution_count": 216
        }
      ]
    },
    {
      "cell_type": "markdown",
      "metadata": {
        "id": "yrbt12KB3DM1"
      },
      "source": [
        "Selecting entire cosine similarity row of 'Fury'. As movie id is 240 as can be seen from above, obviously selected_movie_cs[0][240] = 1"
      ]
    },
    {
      "cell_type": "code",
      "metadata": {
        "id": "NpjPzJbXkjBz"
      },
      "source": [
        "selected_movie_cs = cs[movie_id]"
      ],
      "execution_count": 218,
      "outputs": []
    },
    {
      "cell_type": "code",
      "metadata": {
        "colab": {
          "base_uri": "https://localhost:8080/"
        },
        "id": "CROpY2XQl1Fl",
        "outputId": "cdf7d357-403f-46c5-d9ac-f5ef984eb2c7"
      },
      "source": [
        "selected_movie_cs.shape"
      ],
      "execution_count": 219,
      "outputs": [
        {
          "output_type": "execute_result",
          "data": {
            "text/plain": [
              "(1, 1000)"
            ]
          },
          "metadata": {
            "tags": []
          },
          "execution_count": 219
        }
      ]
    },
    {
      "cell_type": "code",
      "metadata": {
        "colab": {
          "base_uri": "https://localhost:8080/"
        },
        "id": "UzFGAufbme4E",
        "outputId": "a65d7843-5205-4de6-d5c2-ec4b094905c1"
      },
      "source": [
        "type(selected_movie_cs)"
      ],
      "execution_count": 220,
      "outputs": [
        {
          "output_type": "execute_result",
          "data": {
            "text/plain": [
              "numpy.ndarray"
            ]
          },
          "metadata": {
            "tags": []
          },
          "execution_count": 220
        }
      ]
    },
    {
      "cell_type": "markdown",
      "metadata": {
        "id": "-0BrL7r_3bIr"
      },
      "source": [
        "As selected_movie_cs is an numpy array. We will sort them in ascending order. Hence movies with max cosine similarity will be at end. So what argsort does is it sorts indexes instead. Hence this sort_score will contain indexes of movies. As the sorting is ascending then last element will be the index of movie 'Fury' as cs was 1 and so on"
      ]
    },
    {
      "cell_type": "code",
      "metadata": {
        "id": "Bf6I-1jBl6ML"
      },
      "source": [
        "sort_scores = np.argsort(selected_movie_cs)"
      ],
      "execution_count": 221,
      "outputs": []
    },
    {
      "cell_type": "code",
      "metadata": {
        "colab": {
          "base_uri": "https://localhost:8080/"
        },
        "id": "_LOxNDxupJGJ",
        "outputId": "878fde61-8d42-41f2-a7d9-d9e59de91dfc"
      },
      "source": [
        "sort_scores.shape"
      ],
      "execution_count": 222,
      "outputs": [
        {
          "output_type": "execute_result",
          "data": {
            "text/plain": [
              "(1, 1000)"
            ]
          },
          "metadata": {
            "tags": []
          },
          "execution_count": 222
        }
      ]
    },
    {
      "cell_type": "markdown",
      "metadata": {
        "id": "2xvwHC9P4Bwu"
      },
      "source": [
        "Now in the below cell we are selecting 10 values from last ignoring the last one as it is the movie itself."
      ]
    },
    {
      "cell_type": "code",
      "metadata": {
        "id": "krqRGC1QqmUV"
      },
      "source": [
        "recommendation = sort_scores[:, sort_scores.shape[0]-12:-1]"
      ],
      "execution_count": 223,
      "outputs": []
    },
    {
      "cell_type": "markdown",
      "metadata": {
        "id": "4-TES4YM4U4C"
      },
      "source": [
        "So the movie with index 210 is the most relatable to 'Fury'."
      ]
    },
    {
      "cell_type": "code",
      "metadata": {
        "colab": {
          "base_uri": "https://localhost:8080/"
        },
        "id": "RwO476cww2Ra",
        "outputId": "2d84a514-49b4-4c40-94bf-5cfb0362a38e"
      },
      "source": [
        "recommendation"
      ],
      "execution_count": 224,
      "outputs": [
        {
          "output_type": "execute_result",
          "data": {
            "text/plain": [
              "array([[920, 700, 188, 530, 301, 810, 460,  71, 359, 210]])"
            ]
          },
          "metadata": {
            "tags": []
          },
          "execution_count": 224
        }
      ]
    },
    {
      "cell_type": "code",
      "metadata": {
        "colab": {
          "base_uri": "https://localhost:8080/"
        },
        "id": "CEygQN5or6qx",
        "outputId": "7b32ac32-b74b-49ef-eb98-4a85be0d0274"
      },
      "source": [
        "type(recommendation.shape[1])"
      ],
      "execution_count": 225,
      "outputs": [
        {
          "output_type": "execute_result",
          "data": {
            "text/plain": [
              "int"
            ]
          },
          "metadata": {
            "tags": []
          },
          "execution_count": 225
        }
      ]
    },
    {
      "cell_type": "markdown",
      "metadata": {
        "id": "5nv75Xx44eAm"
      },
      "source": [
        "Now getting the Titles of the movie, and appending them into a list."
      ]
    },
    {
      "cell_type": "code",
      "metadata": {
        "id": "nFY-b3eHwD0_"
      },
      "source": [
        "movies = []\r\n",
        "for i in range(0, recommendation.shape[1]):\r\n",
        "  id = recommendation[0][i]\r\n",
        "  movies.append(df.iloc[id]['Title'])"
      ],
      "execution_count": 226,
      "outputs": []
    },
    {
      "cell_type": "markdown",
      "metadata": {
        "id": "C8Ebkbvt4mlC"
      },
      "source": [
        "Reversing the list, to make the most relatable movie as first cause cs was sorted ascending."
      ]
    },
    {
      "cell_type": "code",
      "metadata": {
        "id": "tiHPcAYBqdVT"
      },
      "source": [
        "movies = movies[::-1]"
      ],
      "execution_count": 227,
      "outputs": []
    },
    {
      "cell_type": "markdown",
      "metadata": {
        "id": "egZGB64o4xjy"
      },
      "source": [
        "List of 10 most recommended movies."
      ]
    },
    {
      "cell_type": "code",
      "metadata": {
        "colab": {
          "base_uri": "https://localhost:8080/"
        },
        "id": "d3Hi2DyusW3G",
        "outputId": "5ed2b70b-05f8-49ec-8d90-3ca370160347"
      },
      "source": [
        "movies"
      ],
      "execution_count": 228,
      "outputs": [
        {
          "output_type": "execute_result",
          "data": {
            "text/plain": [
              "['San Andreas',\n",
              " 'About Time',\n",
              " 'Allied',\n",
              " 'The Town',\n",
              " 'Turbo Kid',\n",
              " 'Lone Survivor',\n",
              " 'A Good Year',\n",
              " 'Drive',\n",
              " 'Funny Games',\n",
              " 'Centurion']"
            ]
          },
          "metadata": {
            "tags": []
          },
          "execution_count": 228
        }
      ]
    }
  ]
}